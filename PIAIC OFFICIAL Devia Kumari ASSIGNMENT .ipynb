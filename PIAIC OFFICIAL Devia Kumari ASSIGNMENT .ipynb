{
 "cells": [
  {
   "cell_type": "markdown",
   "metadata": {},
   "source": [
    "## 1. Calculate Area of a Circle"
   ]
  },
  {
   "cell_type": "markdown",
   "metadata": {},
   "source": [
    "#### Write a Python program which accepts the radius of a circle from the user and compute the area.\n",
    "###### Program Console Sample Output 1:\n",
    "###### Input Radius: 0.5\n",
    "###### Area of Circle with radius 0.5 is 0.7853981634"
   ]
  },
  {
   "cell_type": "code",
   "execution_count": 5,
   "metadata": {},
   "outputs": [
    {
     "name": "stdout",
     "output_type": "stream",
     "text": [
      "Input Radius: 0.5\n",
      "Area of circle with radius 0.5 is 0.785\n"
     ]
    }
   ],
   "source": [
    "import math\n",
    "r=float(input(\"Input Radius: \" ))\n",
    "area=math.pi*r*r\n",
    "print(\"Area of circle with radius \" + str(r) + \" \" + \"is\" + \" \" + str(round(area,3)))"
   ]
  },
  {
   "cell_type": "markdown",
   "metadata": {},
   "source": [
    "## 2. Check Number either positive, negative or zero"
   ]
  },
  {
   "cell_type": "markdown",
   "metadata": {},
   "source": [
    "#### Write a Python program to check if a number is positive, negative or zero\n",
    "###### Program Console Sample Output 1:\n",
    "###### Enter Number: -1\n",
    "##### Negative Number Entered\n",
    "###### Program Console Sample Output 2:\n",
    "##### Integer: 3\n",
    "##### Positive Number Entered\n",
    "###### Program Console Sample Output 3:\n",
    "##### Integer: 0\n",
    "###### Zero Entered"
   ]
  },
  {
   "cell_type": "code",
   "execution_count": 6,
   "metadata": {},
   "outputs": [
    {
     "name": "stdout",
     "output_type": "stream",
     "text": [
      "Enter any integer : -1\n",
      "negative Number Entered\n"
     ]
    }
   ],
   "source": [
    "Number = input(\"Enter any integer : \")\n",
    "if (int(Number) == 0 ):\n",
    "    print(\"Zero Entered\")\n",
    "\n",
    "if (int(Number) > 0 ):\n",
    "    print(\"positive Number Entered\")\n",
    "if (int(Number) < 0 ):\n",
    "    print(\"negative Number Entered\")"
   ]
  },
  {
   "cell_type": "code",
   "execution_count": 7,
   "metadata": {},
   "outputs": [
    {
     "name": "stdout",
     "output_type": "stream",
     "text": [
      "Enter any integer : 3\n",
      "positive Number Entered\n"
     ]
    }
   ],
   "source": [
    "Number = input(\"Enter any integer : \")\n",
    "if (int(Number) == 0 ):\n",
    "    print(\"Zero Entered\")\n",
    "\n",
    "if (int(Number) > 0 ):\n",
    "    print(\"positive Number Entered\")\n",
    "if (int(Number) < 0 ):\n",
    "    print(\"negative Number Entered\")"
   ]
  },
  {
   "cell_type": "markdown",
   "metadata": {},
   "source": [
    "## 3. Divisibility Check of two numbers\n",
    "\n",
    "# Write a Python program to check whether a number is completely divisible by another number. Accept two integer values form the user\n",
    "##### Program Console Sample Output 1:\n",
    "###### Enter numerator: 4\n",
    "###### Enter Denominator: 2\n",
    "##### Number 4 is Completely divisible by 2\n",
    "###### Program Console Sample Output 2:\n",
    "##### Enter numerator: 7\n",
    "\n",
    "##### Enter Denominator: 4\n",
    "###### Number 7 is not Completely divisible by 4"
   ]
  },
  {
   "cell_type": "code",
   "execution_count": 8,
   "metadata": {},
   "outputs": [
    {
     "name": "stdout",
     "output_type": "stream",
     "text": [
      "Enter numerator : 4\n",
      "Enter denominator : 2\n",
      "Number 4 is divisible by 2\n"
     ]
    }
   ],
   "source": [
    "num=input(\"Enter numerator : \")\n",
    "deno=input(\"Enter denominator : \"  )\n",
    "if (int(num) % int(deno) == 0):\n",
    "    print(\"Number\" + \" \" + str(num) + \" \" + \"is divisible by \" + str(deno))\n",
    "else:\n",
    "    print(\"Number\" + \" \" + str(num) + \" \" +  \"is not  divisible by \" + str(deno))"
   ]
  },
  {
   "cell_type": "code",
   "execution_count": 9,
   "metadata": {},
   "outputs": [
    {
     "name": "stdout",
     "output_type": "stream",
     "text": [
      "Enter numerator : 7\n",
      "Enter denominator : 4\n",
      "Number 7 is not  divisible by 4\n"
     ]
    }
   ],
   "source": [
    "num=input(\"Enter numerator : \")\n",
    "deno=input(\"Enter denominator : \"  )\n",
    "if (int(num) % int(deno) == 0):\n",
    "    print(\"Number\" + \" \" + str(num) + \" \" + \"is divisible by \" + str(deno))\n",
    "else:\n",
    "\n",
    "    print(\"Number\" + \" \" + str(num) + \" \" +  \"is not  divisible by \" + str(deno))"
   ]
  },
  {
   "cell_type": "markdown",
   "metadata": {},
   "source": [
    "## 4. Calculate Volume of a sphere# \n",
    "\n",
    "\n",
    "# Write a Python program to get the volume of a sphere, please take the radius as input from user"
   ]
  },
  {
   "cell_type": "markdown",
   "metadata": {},
   "source": [
    "##### Program Console Output:\n",
    "##### Enter Radius of Sphere: 1\n",
    "###### Volume of the Sphere with Radius 1 is 4.18"
   ]
  },
  {
   "cell_type": "code",
   "execution_count": 10,
   "metadata": {},
   "outputs": [
    {
     "name": "stdout",
     "output_type": "stream",
     "text": [
      "Enter Radius of Sphere:1\n",
      "Volume of the Sphere with radius 1.0 is 4.19\n"
     ]
    }
   ],
   "source": [
    "import math\n",
    "r= float(input(\"Enter Radius of Sphere:\" ))\n",
    "pi=math.pi\n",
    "Vol= (4/3 * math.pi*r*r*r)\n",
    "Vol=round(Vol,2)\n",
    "\n",
    "print(\"Volume of the Sphere with radius \" + str(r) + \" is \" +  str(Vol))"
   ]
  },
  {
   "cell_type": "markdown",
   "metadata": {},
   "source": [
    "## 5. Copy string n times\n",
    "#### Write a Python program to get a string which is n (non-negative integer) copies of a given string.\n",
    "##### Program Console Output:\n",
    "##### Enter String: Hi\n",
    "###### How many copies of String you need: 4\n",
    "###### 4 Copies of Hi are HiHiHiHi"
   ]
  },
  {
   "cell_type": "code",
   "execution_count": 12,
   "metadata": {},
   "outputs": [
    {
     "name": "stdout",
     "output_type": "stream",
     "text": [
      "Enter String: hi\n",
      "How many copies you need? :4\n",
      "4 copies of hi are hihihihi\n"
     ]
    }
   ],
   "source": [
    "S=str(input(\"Enter String: \" ))\n",
    "c=int(input(\"How many copies you need? :\"))\n",
    "print(str(c) + \" copies of \" + str(S) + \" are \" +  str(S*c))"
   ]
  },
  {
   "cell_type": "markdown",
   "metadata": {},
   "source": [
    "## 6. Check if number is Even or Odd\n",
    "### Write a Python program to find whether a given number (accept from the user) is even or odd, print out an appropriate message to the user\n",
    "#### Program Console Output 1:\n",
    "##### Enter Number: 4\n",
    "###### 4 is Even\n",
    "#### Program Console Output 2:\n",
    "##### Enter Number: 9\n",
    "###### 9 is Odd"
   ]
  },
  {
   "cell_type": "code",
   "execution_count": 13,
   "metadata": {},
   "outputs": [
    {
     "name": "stdout",
     "output_type": "stream",
     "text": [
      "Enter Number : 4\n",
      "4 is Even \n"
     ]
    }
   ],
   "source": [
    "Numb = input(\"Enter Number : \")\n",
    "\n",
    "if (int(Numb)%2 == 0):\n",
    "    print( str(Numb) + \" is Even \" )\n",
    "else:\n",
    "    print( str(Numb) + \" is Odd \" )"
   ]
  },
  {
   "cell_type": "markdown",
   "metadata": {},
   "source": [
    "## 7. Vowel Tester\n",
    "### Write a Python program to test whether a passed letter is a vowel or not\n",
    "#### Program Console Output 1:\n",
    "##### Enter a character: A\n",
    "###### Letter A is Vowel\n",
    "#### Program Console Output 2:\n",
    "##### Enter a character: e\n",
    "###### Letter e is Vowel\n",
    "#### Program Console Output 2:\n",
    "##### Enter a character: N\n",
    "###### Letter N is not Vowel"
   ]
  },
  {
   "cell_type": "code",
   "execution_count": 14,
   "metadata": {},
   "outputs": [
    {
     "name": "stdout",
     "output_type": "stream",
     "text": [
      "Enter a character: A\n",
      "Letter A is a Vowel\n"
     ]
    }
   ],
   "source": [
    "list = [\"A\", \"E\", \"I\" , \"O\" , \"U\" ,\"a\" , \"e\" , \"i\", \"o\" , \"u\"] \n",
    "l=input(\"Enter a character: \")\n",
    "if l in list:\n",
    "    print(\"Letter \"+ l +\" is a Vowel\")\n",
    "else:\n",
    "    print(\"Letter \"+ l +\" is not a Vowel\")"
   ]
  },
  {
   "cell_type": "markdown",
   "metadata": {},
   "source": [
    "## 8. Triangle area\n",
    "### Write a Python program that will accept the base and height of a triangle and compute the area\n",
    "###### Reference:\n",
    "https://www.mathgoodies.com/lessons/vol1/area_triangle"
   ]
  },
  {
   "cell_type": "code",
   "execution_count": 15,
   "metadata": {},
   "outputs": [
    {
     "name": "stdout",
     "output_type": "stream",
     "text": [
      "Enter base: 5\n",
      "Enter height: 10\n",
      "Area of triangle with base 5.0 and height 10.0 is 25.0\n"
     ]
    }
   ],
   "source": [
    "import math\n",
    "b=float(input(\"Enter base: \" ))\n",
    "h=float(input(\"Enter height: \"))\n",
    "a=0.5*b*h \n",
    "print(\"Area of triangle with base \" + str(b) + \" and height \"  + str(h) + \" is \" + str(a))"
   ]
  },
  {
   "cell_type": "markdown",
   "metadata": {},
   "source": [
    "## 9. Calculate Interest\n",
    "### Write a Python program to compute the future value of a specified principal amount, rate of interest, and a number of years\n",
    "#### Program Console Sample 1:\n",
    "##### Please enter principal amount: 10000\n",
    "###### Please Enter Rate of interest in %: 0.1\n",
    "###### Enter number of years for investment: 5\n",
    "###### After 5 years your principal amount 10000 over an interest rate of 0.1 % will be 16105.1"
   ]
  },
  {
   "cell_type": "code",
   "execution_count": 16,
   "metadata": {},
   "outputs": [
    {
     "name": "stdout",
     "output_type": "stream",
     "text": [
      "Please enter principal amount : 10000\n",
      "Please Enter Rate of interest in % : 0.1\n",
      "Enter number of years for investment: 5\n",
      " After 5 years your principal amount 10000 over an interest rate of 0.1 will be: 16105.1\n"
     ]
    }
   ],
   "source": [
    "a = int( input(\"Please enter principal amount : \"))\n",
    "inte = float( input(\"Please Enter Rate of interest in % : \"))\n",
    "inv = int( input(\"Enter number of years for investment: \"))\n",
    "\n",
    "tot = round( a*((1+(inte)) ** inv), 8 )\n",
    "\n",
    "print(\" After \"+str(inv)+\" years your principal amount \"+str(a)+\" over an interest rate of \"+str(inte)+\" will be: \"+str(tot))"
   ]
  },
  {
   "cell_type": "markdown",
   "metadata": {},
   "source": [
    "## 10. Euclidean distance\n",
    "### write a Python program to compute the distance between the points (x1, y1) and (x2, y2).\n",
    "#### Program Console Sample 1:\n",
    "###### Enter Co-ordinate for x1: 2\n",
    "###### Enter Co-ordinate for x2: 4\n",
    "###### Enter Co-ordinate for y1: 4\n",
    "###### Enter Co-ordinate for y2: 4\n",
    "###### Distance between points (2, 4) and (4, 4) is 2"
   ]
  },
  {
   "cell_type": "markdown",
   "metadata": {},
   "source": [
    "###### Reference:\n",
    "https://en.wikipedia.org/wiki/Euclidean_distance"
   ]
  },
  {
   "cell_type": "code",
   "execution_count": 19,
   "metadata": {},
   "outputs": [
    {
     "name": "stdout",
     "output_type": "stream",
     "text": [
      "enter Co-ordinate for x1 2\n",
      "enter Co-ordinate for x2 4\n",
      "enter Co-ordinate for y1 4\n",
      "enter Co-ordinate for y2 4\n",
      "the distance between (2,4) and (4,4) is  2\n"
     ]
    }
   ],
   "source": [
    "import math\n",
    "x1=int(input(\"enter Co-ordinate for x1 \"))\n",
    "x2=int(input(\"enter Co-ordinate for x2 \"))\n",
    "y1=int(input(\"enter Co-ordinate for y1 \"))\n",
    "y2=int(input(\"enter Co-ordinate for y2 \"))\n",
    "d_f=round(math.sqrt(pow(x2-x1,2) + pow(y2-y1,2)))\n",
    "print(f\"the distance between ({x1},{y1}) and ({x2},{y2}) is  {d_f}\")"
   ]
  },
  {
   "cell_type": "markdown",
   "metadata": {},
   "source": [
    "## 11. Feet to Centimeter Converter\n",
    "### Write a Python program to convert height in feet to centimetres.\n",
    "##### Program Console Sample 1:\n",
    "###### Enter Height in Feet: 5\n",
    "###### There are 152.4 Cm in 5 ft\n",
    "###### Reference:\n",
    "https://www.rapidtables.com/convert/length/feet-to-cm.html"
   ]
  },
  {
   "cell_type": "code",
   "execution_count": 22,
   "metadata": {},
   "outputs": [
    {
     "name": "stdout",
     "output_type": "stream",
     "text": [
      "Enter Height in Feet : 5\n",
      " There are 152.4 Cm is 5.0 ft\n"
     ]
    }
   ],
   "source": [
    "H= float( input(\"Enter Height in Feet : \"))\n",
    "\n",
    "Cm = round (H * 30.48 , 3)\n",
    "\n",
    "print( \" There are \" + str(Cm) + \" Cm is \" + str(H) + \" ft\" )"
   ]
  },
  {
   "cell_type": "markdown",
   "metadata": {},
   "source": [
    "## 12. BMI Calculator\n",
    "### Write a Python program to calculate body mass index\n",
    "##### Program Console Sample 1:\n",
    "###### Enter Height in Cm: 180\n",
    "###### Enter Weight in Kg: 75\n",
    "###### Your BMI is 23.15"
   ]
  },
  {
   "cell_type": "code",
   "execution_count": 23,
   "metadata": {},
   "outputs": [
    {
     "name": "stdout",
     "output_type": "stream",
     "text": [
      "Enter Height in Cm: 180\n",
      "Enter Weight in Kg: 75\n",
      "Your BMI is 7500.0\n"
     ]
    }
   ],
   "source": [
    "import math\n",
    "hgt=float(input(\"Enter Height in Cm: \"))\n",
    "wei=float(input(\"Enter Weight in Kg: \"))\n",
    "bmi=(wei/(math.pow(h*0.01,2)))\n",
    "bmi=round(bmi,2)\n",
    "print(\"Your BMI is \" + str(bmi))"
   ]
  },
  {
   "cell_type": "markdown",
   "metadata": {},
   "source": [
    "## 13. Sum of n Positive Integers\n",
    "### Write a python program to sum of the first n positive integers\n",
    "#### Program Console Sample 1:\n",
    "###### Enter value of n: 5\n",
    "###### Sum of n Positive integers till 5 is 15"
   ]
  },
  {
   "cell_type": "code",
   "execution_count": 24,
   "metadata": {},
   "outputs": [
    {
     "name": "stdout",
     "output_type": "stream",
     "text": [
      "Enter value of n: 5\n",
      "Sum of n Positive Integers till 5 is 15\n"
     ]
    }
   ],
   "source": [
    "total=0\n",
    "n=int(input(\"Enter value of n: \"))\n",
    "for digit in range(n+1):\n",
    "    total+=digit\n",
    "print(\"Sum of n Positive Integers till \" + str(n) + \" is \" + str(total))"
   ]
  },
  {
   "cell_type": "markdown",
   "metadata": {},
   "source": [
    "## 14. Digits Sum of a Number\n",
    "### Write a Python program to calculate the sum of the digits in an integer\n",
    "#### Program Console Sample 1:\n",
    "##### Enter a number: 15\n",
    "###### Sum of 1 + 5 is 6\n",
    "#### Program Console Sample 2:\n",
    "##### Enter a number: 1234\n",
    "###### Sum of 1 + 2 + 3 + 4 is 10"
   ]
  },
  {
   "cell_type": "code",
   "execution_count": 25,
   "metadata": {},
   "outputs": [
    {
     "name": "stdout",
     "output_type": "stream",
     "text": [
      "Enter a number : 15\n",
      "Sum is : 6\n"
     ]
    }
   ],
   "source": [
    "num=input(\"Enter a number : \")\n",
    "sum=0\n",
    "for digit in num:\n",
    "    sum+=int(digit)\n",
    "print(\"Sum is :\", sum)"
   ]
  },
  {
   "cell_type": "code",
   "execution_count": 26,
   "metadata": {},
   "outputs": [
    {
     "name": "stdout",
     "output_type": "stream",
     "text": [
      "Enter a number : 1234\n",
      "Sum is : 10\n"
     ]
    }
   ],
   "source": [
    "num=input(\"Enter a number : \")\n",
    "sum=0\n",
    "for digit in num:\n",
    "    sum+=int(digit)\n",
    "print(\"Sum is :\", sum)\n"
   ]
  },
  {
   "cell_type": "code",
   "execution_count": null,
   "metadata": {},
   "outputs": [],
   "source": []
  }
 ],
 "metadata": {
  "kernelspec": {
   "display_name": "Python 3",
   "language": "python",
   "name": "python3"
  },
  "language_info": {
   "codemirror_mode": {
    "name": "ipython",
    "version": 3
   },
   "file_extension": ".py",
   "mimetype": "text/x-python",
   "name": "python",
   "nbconvert_exporter": "python",
   "pygments_lexer": "ipython3",
   "version": "3.7.3"
  }
 },
 "nbformat": 4,
 "nbformat_minor": 2
}
